{
 "cells": [
  {
   "cell_type": "code",
   "execution_count": 2,
   "metadata": {},
   "outputs": [
    {
     "name": "stderr",
     "output_type": "stream",
     "text": [
      "c:\\python35\\lib\\site-packages\\sklearn\\utils\\deprecation.py:144: FutureWarning: The sklearn.datasets.base module is  deprecated in version 0.22 and will be removed in version 0.24. The corresponding classes / functions should instead be imported from sklearn.datasets. Anything that cannot be imported from sklearn.datasets is now part of the private API.\n",
      "  warnings.warn(message, FutureWarning)\n"
     ]
    }
   ],
   "source": [
    "\n",
    "import mord\n",
    "from mord.datasets.base import load_housing\n",
    "from sklearn import linear_model, metrics, preprocessing"
   ]
  },
  {
   "cell_type": "code",
   "execution_count": 10,
   "metadata": {},
   "outputs": [],
   "source": [
    " \n",
    "import mord\n",
    "import pandas as pd\n",
    "import numpy as np\n",
    "from sklearn import linear_model, metrics, preprocessing"
   ]
  },
  {
   "cell_type": "code",
   "execution_count": 30,
   "metadata": {},
   "outputs": [],
   "source": [
    "\n",
    "\n",
    "# data_all = pd.read_csv(r'C:\\Python35\\Lib\\site-packages\\mord\\datasets\\data\\copenhagen_housing_survey.csv')\n",
    "# features_names = ('Infl', 'Type', 'Cont')\n",
    "# target=data_all.loc[:,'Sat']\n",
    "# features=data_all.loc[:,features]\n",
    "# # print(data, target)\n",
    " "
   ]
  },
  {
   "cell_type": "code",
   "execution_count": 32,
   "metadata": {},
   "outputs": [],
   "source": [
    "#https://stats.stackexchange.com/questions/108834/calculate-coefficients-in-a-ordinal-logistic-regression-with-r\n",
    "import pandas as pd\n",
    "import numpy as np\n",
    "X = pd.read_csv(\"C:\\\\Users\\\\enisbe\\\\Documents\\\\jupyter\\\\data\\\\X.csv\")\n",
    "y = pd.read_csv(\"C:\\\\Users\\\\enisbe\\\\Documents\\\\jupyter\\\\data\\\\y.csv\")\n",
    "start = pd.read_csv(\"C:\\\\Users\\\\enisbe\\\\Documents\\\\jupyter\\\\data\\\\start.csv\")\n",
    "X = X.iloc[:,1:].to_numpy()\n",
    "y  = np.ravel(  y.iloc[:,1:].to_numpy())\n",
    "# s0 =start.iloc[:,1:].to_numpy()\n",
    "np.set_printoptions(precision=4)\n",
    "X  = X[:,[0,2]]"
   ]
  },
  {
   "cell_type": "code",
   "execution_count": 33,
   "metadata": {},
   "outputs": [
    {
     "name": "stdout",
     "output_type": "stream",
     "text": [
      "Mean Absolute Error of LogisticRegression: 0.3970223325062035\n",
      "Mean Absolute Error of LogisticAT 0.391232423490488\n",
      "Mean Absolute Error of LogisticIT 0.3970223325062035\n",
      "Mean Absolute Error of LogisticSE 0.39950372208436724\n"
     ]
    }
   ],
   "source": [
    "clf1 = linear_model.LogisticRegression(\n",
    "    solver='lbfgs',\n",
    "    multi_class='multinomial')\n",
    "clf1.fit(X, y)\n",
    "\n",
    "print('Mean Absolute Error of LogisticRegression: %s' %\n",
    "      metrics.mean_absolute_error(clf1.predict(X), y))\n",
    "\n",
    "clf2 = mord.LogisticAT(alpha=1.)\n",
    "clf2.fit(X, y)\n",
    "print('Mean Absolute Error of LogisticAT %s' %\n",
    "      metrics.mean_absolute_error(clf2.predict(X), y))\n",
    "\n",
    "clf3 = mord.LogisticIT(alpha=1.)\n",
    "clf3.fit(X, y)\n",
    "print('Mean Absolute Error of LogisticIT %s' %\n",
    "      metrics.mean_absolute_error(clf3.predict(X), y))\n",
    "\n",
    "clf4 = mord.LogisticSE(alpha=1.)\n",
    "clf4.fit(X, y)\n",
    "print('Mean Absolute Error of LogisticSE %s' %\n",
    "      metrics.mean_absolute_error(clf4.predict(X), y))\n",
    " "
   ]
  },
  {
   "cell_type": "code",
   "execution_count": 44,
   "metadata": {},
   "outputs": [
    {
     "data": {
      "text/plain": [
       "array([1, 2, 3, 4], dtype=int64)"
      ]
     },
     "execution_count": 44,
     "metadata": {},
     "output_type": "execute_result"
    }
   ],
   "source": [
    "np.unique(y)"
   ]
  },
  {
   "cell_type": "code",
   "execution_count": 45,
   "metadata": {},
   "outputs": [
    {
     "name": "stdout",
     "output_type": "stream",
     "text": [
      "[2.3443 0.8253]\n",
      "[1.2445 3.217  4.0009]\n",
      "[1.3836 2.1063 2.1063]\n"
     ]
    }
   ],
   "source": [
    "# print(clf1.coef_)\n",
    "# print(clf2.classes_)\n",
    "# print(clf2.coef_)\n",
    "\n",
    "print(clf2.coef_)\n",
    "print(clf2.theta_)\n",
    "# print(clf1.intercept_)\n",
    " \n",
    "print(clf3.theta_)\n"
   ]
  }
 ],
 "metadata": {
  "kernelspec": {
   "display_name": "Python 3",
   "language": "python",
   "name": "python3"
  },
  "language_info": {
   "codemirror_mode": {
    "name": "ipython",
    "version": 3
   },
   "file_extension": ".py",
   "mimetype": "text/x-python",
   "name": "python",
   "nbconvert_exporter": "python",
   "pygments_lexer": "ipython3",
   "version": "3.5.2"
  }
 },
 "nbformat": 4,
 "nbformat_minor": 2
}
